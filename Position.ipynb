{
 "cells": [
  {
   "cell_type": "code",
   "execution_count": null,
   "metadata": {},
   "outputs": [],
   "source": [
    "# Pipeline to convert latitude and longitude value of drive IDs into X-Y co-ordinate on face of earth\n",
    "# with respect to a reference point\n",
    "# Function Input: Set of latitude and longitude values\n",
    "# Function Output: a 2D map/plot on surface of earth"
   ]
  },
  {
   "cell_type": "code",
   "execution_count": null,
   "metadata": {},
   "outputs": [],
   "source": [
    "# Libraries\n",
    "import pandas as pd\n",
    "import math\n",
    "import matplotlib.pyplot as plt"
   ]
  },
  {
   "cell_type": "code",
   "execution_count": null,
   "metadata": {},
   "outputs": [],
   "source": [
    "# Step 0 - Set radius of Earth\n",
    "R_Earth = 6371 # km"
   ]
  },
  {
   "cell_type": "code",
   "execution_count": null,
   "metadata": {},
   "outputs": [],
   "source": [
    "# Step 1- Get latitude and longitude values into an array\n",
    "data = pd.read_excel (r'my_file.xlsx') \n",
    "df = pd.DataFrame(data, columns= ['Lat_inter','Lon_inter'])\n",
    "data_latitude = df['Lat_inter']\n",
    "data_longitude = df['Lon_inter']"
   ]
  },
  {
   "cell_type": "code",
   "execution_count": null,
   "metadata": {},
   "outputs": [],
   "source": [
    "# Step 2 - Set datum: Get minimum Latitude and longitude value in data set to estblish reference point\n",
    "latitude_min = min(data_latitude)\n",
    "longitude_min = min(data_longitude)"
   ]
  },
  {
   "cell_type": "code",
   "execution_count": null,
   "metadata": {},
   "outputs": [],
   "source": [
    "# Step 3 - Calculate circumferential X and Y distance of a data point from datum, on the face of earth\n",
    "x = []\n",
    "y = []\n",
    "for index in range(len(data_latitude)):\n",
    "    x.append((math.pi/180) * (data_longitude[index] - longitude_min) * R_Earth * math.cos(math.pi/180 * data_latitude[index]))\n",
    "    y.append((math.pi/180) * (data_latitude[index] - latitude_min) * R_Earth)"
   ]
  },
  {
   "cell_type": "code",
   "execution_count": null,
   "metadata": {},
   "outputs": [],
   "source": [
    "# Step 3 - Plot the points with respect to datum\n",
    "plt.plot(x,y)\n",
    "plt.xlabel('x-distance (km)')\n",
    "plt.ylabel('y-distance (km)')"
   ]
  },
  {
   "cell_type": "code",
   "execution_count": null,
   "metadata": {},
   "outputs": [],
   "source": [
    "# Distance Travelled\n",
    "distance = []\n",
    "time = []\n",
    "temp = 0\n",
    "temp_time = 0\n",
    "time = df['']\n",
    "for i in range(len(data_latitude)-1):\n",
    "    temp = temp + math.sqrt((x[i+1]-x[i])**2 + (y[i+1]-y[i])**2)\n",
    "    distance.append(temp)"
   ]
  },
  {
   "cell_type": "code",
   "execution_count": null,
   "metadata": {},
   "outputs": [],
   "source": [
    "plt.plot(distance)\n",
    "plt.ylabel('distance (km)')"
   ]
  },
  {
   "cell_type": "code",
   "execution_count": null,
   "metadata": {},
   "outputs": [],
   "source": []
  }
 ],
 "metadata": {
  "kernelspec": {
   "display_name": "Python 3",
   "language": "python",
   "name": "python3"
  },
  "language_info": {
   "codemirror_mode": {
    "name": "ipython",
    "version": 3
   },
   "file_extension": ".py",
   "mimetype": "text/x-python",
   "name": "python",
   "nbconvert_exporter": "python",
   "pygments_lexer": "ipython3",
   "version": "3.7.4"
  }
 },
 "nbformat": 4,
 "nbformat_minor": 2
}
